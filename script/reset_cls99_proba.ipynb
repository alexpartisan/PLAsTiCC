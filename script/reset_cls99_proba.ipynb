{
 "cells": [
  {
   "cell_type": "code",
   "execution_count": 1,
   "metadata": {},
   "outputs": [],
   "source": [
    "import pandas as pd\n",
    "import numpy as np"
   ]
  },
  {
   "cell_type": "code",
   "execution_count": 87,
   "metadata": {},
   "outputs": [],
   "source": [
    "ans = pd.read_csv(r'../result/10_30_CV_90_unzip.csv')"
   ]
  },
  {
   "cell_type": "code",
   "execution_count": 96,
   "metadata": {},
   "outputs": [
    {
     "data": {
      "text/plain": [
       "3492890"
      ]
     },
     "execution_count": 96,
     "metadata": {},
     "output_type": "execute_result"
    }
   ],
   "source": [
    "ans.object_id.nunique()"
   ]
  },
  {
   "cell_type": "code",
   "execution_count": 80,
   "metadata": {},
   "outputs": [
    {
     "data": {
      "text/html": [
       "<div>\n",
       "<style scoped>\n",
       "    .dataframe tbody tr th:only-of-type {\n",
       "        vertical-align: middle;\n",
       "    }\n",
       "\n",
       "    .dataframe tbody tr th {\n",
       "        vertical-align: top;\n",
       "    }\n",
       "\n",
       "    .dataframe thead th {\n",
       "        text-align: right;\n",
       "    }\n",
       "</style>\n",
       "<table border=\"1\" class=\"dataframe\">\n",
       "  <thead>\n",
       "    <tr style=\"text-align: right;\">\n",
       "      <th></th>\n",
       "      <th>class_6</th>\n",
       "      <th>class_15</th>\n",
       "      <th>class_16</th>\n",
       "      <th>class_42</th>\n",
       "      <th>class_52</th>\n",
       "      <th>class_53</th>\n",
       "      <th>class_62</th>\n",
       "      <th>class_64</th>\n",
       "      <th>class_65</th>\n",
       "      <th>class_67</th>\n",
       "      <th>class_88</th>\n",
       "      <th>class_90</th>\n",
       "      <th>class_92</th>\n",
       "      <th>class_95</th>\n",
       "      <th>class_99</th>\n",
       "      <th>object_id</th>\n",
       "    </tr>\n",
       "  </thead>\n",
       "  <tbody>\n",
       "    <tr>\n",
       "      <th>0</th>\n",
       "      <td>0.0</td>\n",
       "      <td>0.002536</td>\n",
       "      <td>0.0</td>\n",
       "      <td>0.415095</td>\n",
       "      <td>0.043948</td>\n",
       "      <td>0.0</td>\n",
       "      <td>0.032072</td>\n",
       "      <td>0.000652</td>\n",
       "      <td>0.0</td>\n",
       "      <td>0.005241</td>\n",
       "      <td>0.000552</td>\n",
       "      <td>0.497805</td>\n",
       "      <td>0.0</td>\n",
       "      <td>0.002099</td>\n",
       "      <td>0.176375</td>\n",
       "      <td>13.0</td>\n",
       "    </tr>\n",
       "    <tr>\n",
       "      <th>1</th>\n",
       "      <td>0.0</td>\n",
       "      <td>0.005886</td>\n",
       "      <td>0.0</td>\n",
       "      <td>0.108876</td>\n",
       "      <td>0.013463</td>\n",
       "      <td>0.0</td>\n",
       "      <td>0.048363</td>\n",
       "      <td>0.004658</td>\n",
       "      <td>0.0</td>\n",
       "      <td>0.012685</td>\n",
       "      <td>0.002619</td>\n",
       "      <td>0.797219</td>\n",
       "      <td>0.0</td>\n",
       "      <td>0.006232</td>\n",
       "      <td>0.107780</td>\n",
       "      <td>14.0</td>\n",
       "    </tr>\n",
       "    <tr>\n",
       "      <th>2</th>\n",
       "      <td>0.0</td>\n",
       "      <td>0.005199</td>\n",
       "      <td>0.0</td>\n",
       "      <td>0.063914</td>\n",
       "      <td>0.008251</td>\n",
       "      <td>0.0</td>\n",
       "      <td>0.018703</td>\n",
       "      <td>0.002576</td>\n",
       "      <td>0.0</td>\n",
       "      <td>0.014331</td>\n",
       "      <td>0.012107</td>\n",
       "      <td>0.867410</td>\n",
       "      <td>0.0</td>\n",
       "      <td>0.007508</td>\n",
       "      <td>0.075995</td>\n",
       "      <td>17.0</td>\n",
       "    </tr>\n",
       "    <tr>\n",
       "      <th>3</th>\n",
       "      <td>0.0</td>\n",
       "      <td>0.003614</td>\n",
       "      <td>0.0</td>\n",
       "      <td>0.177923</td>\n",
       "      <td>0.011381</td>\n",
       "      <td>0.0</td>\n",
       "      <td>0.035405</td>\n",
       "      <td>0.003067</td>\n",
       "      <td>0.0</td>\n",
       "      <td>0.081573</td>\n",
       "      <td>0.001515</td>\n",
       "      <td>0.678767</td>\n",
       "      <td>0.0</td>\n",
       "      <td>0.006756</td>\n",
       "      <td>0.149492</td>\n",
       "      <td>23.0</td>\n",
       "    </tr>\n",
       "    <tr>\n",
       "      <th>4</th>\n",
       "      <td>0.0</td>\n",
       "      <td>0.002757</td>\n",
       "      <td>0.0</td>\n",
       "      <td>0.052364</td>\n",
       "      <td>0.058403</td>\n",
       "      <td>0.0</td>\n",
       "      <td>0.009010</td>\n",
       "      <td>0.000339</td>\n",
       "      <td>0.0</td>\n",
       "      <td>0.007134</td>\n",
       "      <td>0.000275</td>\n",
       "      <td>0.868779</td>\n",
       "      <td>0.0</td>\n",
       "      <td>0.000940</td>\n",
       "      <td>0.075262</td>\n",
       "      <td>34.0</td>\n",
       "    </tr>\n",
       "  </tbody>\n",
       "</table>\n",
       "</div>"
      ],
      "text/plain": [
       "   class_6  class_15  class_16  class_42  class_52  class_53  class_62  \\\n",
       "0      0.0  0.002536       0.0  0.415095  0.043948       0.0  0.032072   \n",
       "1      0.0  0.005886       0.0  0.108876  0.013463       0.0  0.048363   \n",
       "2      0.0  0.005199       0.0  0.063914  0.008251       0.0  0.018703   \n",
       "3      0.0  0.003614       0.0  0.177923  0.011381       0.0  0.035405   \n",
       "4      0.0  0.002757       0.0  0.052364  0.058403       0.0  0.009010   \n",
       "\n",
       "   class_64  class_65  class_67  class_88  class_90  class_92  class_95  \\\n",
       "0  0.000652       0.0  0.005241  0.000552  0.497805       0.0  0.002099   \n",
       "1  0.004658       0.0  0.012685  0.002619  0.797219       0.0  0.006232   \n",
       "2  0.002576       0.0  0.014331  0.012107  0.867410       0.0  0.007508   \n",
       "3  0.003067       0.0  0.081573  0.001515  0.678767       0.0  0.006756   \n",
       "4  0.000339       0.0  0.007134  0.000275  0.868779       0.0  0.000940   \n",
       "\n",
       "   class_99  object_id  \n",
       "0  0.176375       13.0  \n",
       "1  0.107780       14.0  \n",
       "2  0.075995       17.0  \n",
       "3  0.149492       23.0  \n",
       "4  0.075262       34.0  "
      ]
     },
     "execution_count": 80,
     "metadata": {},
     "output_type": "execute_result"
    }
   ],
   "source": [
    "ans.head()"
   ]
  },
  {
   "cell_type": "code",
   "execution_count": 92,
   "metadata": {},
   "outputs": [
    {
     "name": "stdout",
     "output_type": "stream",
     "text": [
      "<class 'pandas.core.frame.DataFrame'>\n",
      "RangeIndex: 3492890 entries, 0 to 3492889\n",
      "Data columns (total 16 columns):\n",
      "class_6      float32\n",
      "class_15     float32\n",
      "class_16     float32\n",
      "class_42     float32\n",
      "class_52     float32\n",
      "class_53     float32\n",
      "class_62     float32\n",
      "class_64     float32\n",
      "class_65     float32\n",
      "class_67     float32\n",
      "class_88     float32\n",
      "class_90     float32\n",
      "class_92     float32\n",
      "class_95     float32\n",
      "class_99     float32\n",
      "object_id    int32\n",
      "dtypes: float32(15), int32(1)\n",
      "memory usage: 213.2 MB\n"
     ]
    }
   ],
   "source": [
    "ans.info()"
   ]
  },
  {
   "cell_type": "code",
   "execution_count": 90,
   "metadata": {},
   "outputs": [],
   "source": [
    "probas = ans.columns.tolist()[0:15]\n",
    "\n",
    "ans[probas] = ans[probas].astype(np.float32)"
   ]
  },
  {
   "cell_type": "code",
   "execution_count": 91,
   "metadata": {},
   "outputs": [],
   "source": [
    "ans.object_id = ans.object_id.astype(np.int32)"
   ]
  },
  {
   "cell_type": "code",
   "execution_count": 7,
   "metadata": {},
   "outputs": [],
   "source": [
    "# ans.to_csv(r'../result/10_30_CV_90_unzip.gz', float_format='%.6f', header=True, index=False, compression='gzip')"
   ]
  },
  {
   "cell_type": "code",
   "execution_count": 48,
   "metadata": {},
   "outputs": [],
   "source": [
    "# to_add_list = ans.columns.tolist()[0:15]\n",
    "# ans['tot'] = 0\n",
    "# for col in to_add_list:\n",
    "#     ans.tot = ans.tot + ans[col]\n"
   ]
  },
  {
   "cell_type": "code",
   "execution_count": 94,
   "metadata": {},
   "outputs": [],
   "source": [
    "ans.class_99 = ans.class_99*0.1/0.14"
   ]
  },
  {
   "cell_type": "code",
   "execution_count": 95,
   "metadata": {},
   "outputs": [
    {
     "data": {
      "text/plain": [
       "count    3.492890e+06\n",
       "mean     9.999999e-02\n",
       "std      4.439533e-02\n",
       "min      5.642857e-05\n",
       "25%      7.902429e-02\n",
       "50%      1.096768e-01\n",
       "75%      1.353686e-01\n",
       "max      1.677772e-01\n",
       "Name: class_99, dtype: float64"
      ]
     },
     "execution_count": 95,
     "metadata": {},
     "output_type": "execute_result"
    }
   ],
   "source": [
    "ans.class_99.describe()"
   ]
  },
  {
   "cell_type": "code",
   "execution_count": 98,
   "metadata": {},
   "outputs": [],
   "source": [
    "ans.to_csv(r'../result/10_30_CV_90_cls99_010.gz', float_format='%.6f', header=True, index=False, compression='gzip')"
   ]
  },
  {
   "cell_type": "code",
   "execution_count": null,
   "metadata": {},
   "outputs": [],
   "source": []
  }
 ],
 "metadata": {
  "kernelspec": {
   "display_name": "Python 3",
   "language": "python",
   "name": "python3"
  },
  "language_info": {
   "codemirror_mode": {
    "name": "ipython",
    "version": 3
   },
   "file_extension": ".py",
   "mimetype": "text/x-python",
   "name": "python",
   "nbconvert_exporter": "python",
   "pygments_lexer": "ipython3",
   "version": "3.6.6"
  }
 },
 "nbformat": 4,
 "nbformat_minor": 2
}
