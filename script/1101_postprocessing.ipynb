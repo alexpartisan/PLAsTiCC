{
 "cells": [
  {
   "cell_type": "code",
   "execution_count": 22,
   "metadata": {},
   "outputs": [],
   "source": [
    "import pandas as pd\n",
    "import numpy as np"
   ]
  },
  {
   "cell_type": "code",
   "execution_count": 29,
   "metadata": {},
   "outputs": [],
   "source": [
    "pred = pd.read_csv('../result/online_1101.csv')"
   ]
  },
  {
   "cell_type": "code",
   "execution_count": 30,
   "metadata": {},
   "outputs": [
    {
     "data": {
      "text/plain": [
       "3492889"
      ]
     },
     "execution_count": 30,
     "metadata": {},
     "output_type": "execute_result"
    }
   ],
   "source": [
    "pred.object_id.nunique()"
   ]
  },
  {
   "cell_type": "code",
   "execution_count": 31,
   "metadata": {},
   "outputs": [
    {
     "data": {
      "text/plain": [
       "{104853812}"
      ]
     },
     "execution_count": 31,
     "metadata": {},
     "output_type": "execute_result"
    }
   ],
   "source": [
    "set(pred.object_id).symmetric_difference(set(sub.object_id))"
   ]
  },
  {
   "cell_type": "markdown",
   "metadata": {},
   "source": [
    "缺少最后一个object，因为线上程序运行到最后报错，没有处理，因此暂时复制了倒数第二个object的值，提交试试"
   ]
  },
  {
   "cell_type": "code",
   "execution_count": 8,
   "metadata": {},
   "outputs": [],
   "source": [
    "pred = pd.read_csv('../result/online_1101_p.csv')"
   ]
  },
  {
   "cell_type": "code",
   "execution_count": 9,
   "metadata": {},
   "outputs": [
    {
     "data": {
      "text/plain": [
       "3492890"
      ]
     },
     "execution_count": 9,
     "metadata": {},
     "output_type": "execute_result"
    }
   ],
   "source": [
    "pred.object_id.nunique()"
   ]
  },
  {
   "cell_type": "code",
   "execution_count": 10,
   "metadata": {},
   "outputs": [],
   "source": [
    "sub = pd.read_csv('../input/sample_submission.csv')"
   ]
  },
  {
   "cell_type": "code",
   "execution_count": 11,
   "metadata": {},
   "outputs": [
    {
     "data": {
      "text/plain": [
       "set()"
      ]
     },
     "execution_count": 11,
     "metadata": {},
     "output_type": "execute_result"
    }
   ],
   "source": [
    "set(pred.object_id).symmetric_difference(set(sub.object_id))"
   ]
  },
  {
   "cell_type": "code",
   "execution_count": 12,
   "metadata": {},
   "outputs": [
    {
     "data": {
      "text/html": [
       "<div>\n",
       "<style scoped>\n",
       "    .dataframe tbody tr th:only-of-type {\n",
       "        vertical-align: middle;\n",
       "    }\n",
       "\n",
       "    .dataframe tbody tr th {\n",
       "        vertical-align: top;\n",
       "    }\n",
       "\n",
       "    .dataframe thead th {\n",
       "        text-align: right;\n",
       "    }\n",
       "</style>\n",
       "<table border=\"1\" class=\"dataframe\">\n",
       "  <thead>\n",
       "    <tr style=\"text-align: right;\">\n",
       "      <th></th>\n",
       "      <th>class_6</th>\n",
       "      <th>class_15</th>\n",
       "      <th>class_16</th>\n",
       "      <th>class_42</th>\n",
       "      <th>class_52</th>\n",
       "      <th>class_53</th>\n",
       "      <th>class_62</th>\n",
       "      <th>class_64</th>\n",
       "      <th>class_65</th>\n",
       "      <th>class_67</th>\n",
       "      <th>class_88</th>\n",
       "      <th>class_90</th>\n",
       "      <th>class_92</th>\n",
       "      <th>class_95</th>\n",
       "      <th>object_id</th>\n",
       "      <th>class_99</th>\n",
       "    </tr>\n",
       "  </thead>\n",
       "  <tbody>\n",
       "    <tr>\n",
       "      <th>3492890</th>\n",
       "      <td>0.0</td>\n",
       "      <td>0.010489</td>\n",
       "      <td>0.0</td>\n",
       "      <td>0.176699</td>\n",
       "      <td>0.139613</td>\n",
       "      <td>0.0</td>\n",
       "      <td>0.167149</td>\n",
       "      <td>0.000083</td>\n",
       "      <td>0.0</td>\n",
       "      <td>0.181025</td>\n",
       "      <td>0.000018</td>\n",
       "      <td>0.324785</td>\n",
       "      <td>0.0</td>\n",
       "      <td>0.000138</td>\n",
       "      <td>104853812</td>\n",
       "      <td>0.194904</td>\n",
       "    </tr>\n",
       "  </tbody>\n",
       "</table>\n",
       "</div>"
      ],
      "text/plain": [
       "         class_6  class_15  class_16  class_42  class_52  class_53  class_62  \\\n",
       "3492890      0.0  0.010489       0.0  0.176699  0.139613       0.0  0.167149   \n",
       "\n",
       "         class_64  class_65  class_67  class_88  class_90  class_92  class_95  \\\n",
       "3492890  0.000083       0.0  0.181025  0.000018  0.324785       0.0  0.000138   \n",
       "\n",
       "         object_id  class_99  \n",
       "3492890  104853812  0.194904  "
      ]
     },
     "execution_count": 12,
     "metadata": {},
     "output_type": "execute_result"
    }
   ],
   "source": [
    "pred[pred.object_id==104853812]"
   ]
  },
  {
   "cell_type": "code",
   "execution_count": 13,
   "metadata": {
    "scrolled": true
   },
   "outputs": [
    {
     "data": {
      "text/html": [
       "<div>\n",
       "<style scoped>\n",
       "    .dataframe tbody tr th:only-of-type {\n",
       "        vertical-align: middle;\n",
       "    }\n",
       "\n",
       "    .dataframe tbody tr th {\n",
       "        vertical-align: top;\n",
       "    }\n",
       "\n",
       "    .dataframe thead th {\n",
       "        text-align: right;\n",
       "    }\n",
       "</style>\n",
       "<table border=\"1\" class=\"dataframe\">\n",
       "  <thead>\n",
       "    <tr style=\"text-align: right;\">\n",
       "      <th></th>\n",
       "      <th>object_id</th>\n",
       "      <th>class_6</th>\n",
       "      <th>class_15</th>\n",
       "      <th>class_16</th>\n",
       "      <th>class_42</th>\n",
       "      <th>class_52</th>\n",
       "      <th>class_53</th>\n",
       "      <th>class_62</th>\n",
       "      <th>class_64</th>\n",
       "      <th>class_65</th>\n",
       "      <th>class_67</th>\n",
       "      <th>class_88</th>\n",
       "      <th>class_90</th>\n",
       "      <th>class_92</th>\n",
       "      <th>class_95</th>\n",
       "      <th>class_99</th>\n",
       "    </tr>\n",
       "  </thead>\n",
       "  <tbody>\n",
       "    <tr>\n",
       "      <th>2800897</th>\n",
       "      <td>104853812</td>\n",
       "      <td>0</td>\n",
       "      <td>0</td>\n",
       "      <td>0</td>\n",
       "      <td>0</td>\n",
       "      <td>0</td>\n",
       "      <td>0</td>\n",
       "      <td>0</td>\n",
       "      <td>0</td>\n",
       "      <td>0</td>\n",
       "      <td>0</td>\n",
       "      <td>0</td>\n",
       "      <td>1</td>\n",
       "      <td>0</td>\n",
       "      <td>0</td>\n",
       "      <td>0</td>\n",
       "    </tr>\n",
       "  </tbody>\n",
       "</table>\n",
       "</div>"
      ],
      "text/plain": [
       "         object_id  class_6  class_15  class_16  class_42  class_52  class_53  \\\n",
       "2800897  104853812        0         0         0         0         0         0   \n",
       "\n",
       "         class_62  class_64  class_65  class_67  class_88  class_90  class_92  \\\n",
       "2800897         0         0         0         0         0         1         0   \n",
       "\n",
       "         class_95  class_99  \n",
       "2800897         0         0  "
      ]
     },
     "execution_count": 13,
     "metadata": {},
     "output_type": "execute_result"
    }
   ],
   "source": [
    "sub[sub.object_id==104853812]"
   ]
  },
  {
   "cell_type": "code",
   "execution_count": 24,
   "metadata": {},
   "outputs": [
    {
     "data": {
      "text/html": [
       "<div>\n",
       "<style scoped>\n",
       "    .dataframe tbody tr th:only-of-type {\n",
       "        vertical-align: middle;\n",
       "    }\n",
       "\n",
       "    .dataframe tbody tr th {\n",
       "        vertical-align: top;\n",
       "    }\n",
       "\n",
       "    .dataframe thead th {\n",
       "        text-align: right;\n",
       "    }\n",
       "</style>\n",
       "<table border=\"1\" class=\"dataframe\">\n",
       "  <thead>\n",
       "    <tr style=\"text-align: right;\">\n",
       "      <th></th>\n",
       "      <th>class_6</th>\n",
       "      <th>class_15</th>\n",
       "      <th>class_16</th>\n",
       "      <th>class_42</th>\n",
       "      <th>class_52</th>\n",
       "      <th>class_53</th>\n",
       "      <th>class_62</th>\n",
       "      <th>class_64</th>\n",
       "      <th>class_65</th>\n",
       "      <th>class_67</th>\n",
       "      <th>class_88</th>\n",
       "      <th>class_90</th>\n",
       "      <th>class_92</th>\n",
       "      <th>class_95</th>\n",
       "      <th>object_id</th>\n",
       "      <th>class_99</th>\n",
       "    </tr>\n",
       "  </thead>\n",
       "  <tbody>\n",
       "    <tr>\n",
       "      <th>698995</th>\n",
       "      <td>0.0</td>\n",
       "      <td>0.138613</td>\n",
       "      <td>0.0</td>\n",
       "      <td>0.250844</td>\n",
       "      <td>0.412668</td>\n",
       "      <td>0.0</td>\n",
       "      <td>0.112150</td>\n",
       "      <td>0.000240</td>\n",
       "      <td>0.0</td>\n",
       "      <td>0.006877</td>\n",
       "      <td>0.000018</td>\n",
       "      <td>0.078585</td>\n",
       "      <td>0.0</td>\n",
       "      <td>0.000004</td>\n",
       "      <td>1171843</td>\n",
       "      <td>0.185872</td>\n",
       "    </tr>\n",
       "    <tr>\n",
       "      <th>734026</th>\n",
       "      <td>0.0</td>\n",
       "      <td>0.219945</td>\n",
       "      <td>0.0</td>\n",
       "      <td>0.486365</td>\n",
       "      <td>0.107465</td>\n",
       "      <td>0.0</td>\n",
       "      <td>0.143941</td>\n",
       "      <td>0.000298</td>\n",
       "      <td>0.0</td>\n",
       "      <td>0.002338</td>\n",
       "      <td>0.000579</td>\n",
       "      <td>0.038944</td>\n",
       "      <td>0.0</td>\n",
       "      <td>0.000125</td>\n",
       "      <td>1171843</td>\n",
       "      <td>0.178146</td>\n",
       "    </tr>\n",
       "  </tbody>\n",
       "</table>\n",
       "</div>"
      ],
      "text/plain": [
       "        class_6  class_15  class_16  class_42  class_52  class_53  class_62  \\\n",
       "698995      0.0  0.138613       0.0  0.250844  0.412668       0.0  0.112150   \n",
       "734026      0.0  0.219945       0.0  0.486365  0.107465       0.0  0.143941   \n",
       "\n",
       "        class_64  class_65  class_67  class_88  class_90  class_92  class_95  \\\n",
       "698995  0.000240       0.0  0.006877  0.000018  0.078585       0.0  0.000004   \n",
       "734026  0.000298       0.0  0.002338  0.000579  0.038944       0.0  0.000125   \n",
       "\n",
       "        object_id  class_99  \n",
       "698995    1171843  0.185872  \n",
       "734026    1171843  0.178146  "
      ]
     },
     "execution_count": 24,
     "metadata": {},
     "output_type": "execute_result"
    }
   ],
   "source": [
    "df = pred.copy()\n",
    "df[df.object_id.isin(df.object_id[df.object_id.duplicated()])]"
   ]
  },
  {
   "cell_type": "code",
   "execution_count": 25,
   "metadata": {},
   "outputs": [],
   "source": [
    "df = df.groupby('object_id').mean()"
   ]
  },
  {
   "cell_type": "code",
   "execution_count": 27,
   "metadata": {},
   "outputs": [
    {
     "name": "stdout",
     "output_type": "stream",
     "text": [
      "<class 'pandas.core.frame.DataFrame'>\n",
      "Int64Index: 3492890 entries, 13 to 130788054\n",
      "Data columns (total 16 columns):\n",
      "class_6      float32\n",
      "class_15     float32\n",
      "class_16     float32\n",
      "class_42     float32\n",
      "class_52     float32\n",
      "class_53     float32\n",
      "class_62     float32\n",
      "class_64     float32\n",
      "class_65     float32\n",
      "class_67     float32\n",
      "class_88     float32\n",
      "class_90     float32\n",
      "class_92     float32\n",
      "class_95     float32\n",
      "class_99     float32\n",
      "object_id    int32\n",
      "dtypes: float32(15), int32(1)\n",
      "memory usage: 239.8 MB\n"
     ]
    },
    {
     "data": {
      "text/plain": [
       "3492890"
      ]
     },
     "execution_count": 27,
     "metadata": {},
     "output_type": "execute_result"
    }
   ],
   "source": [
    "df = df.astype(np.float32)\n",
    "df['object_id'] = df.index\n",
    "df['object_id'] = df['object_id'].astype(np.int32)\n",
    "df = df.drop_duplicates(subset=['object_id'], keep='first')\n",
    "df.info()\n",
    "df.object_id.nunique()\n",
    "# df.to_csv('single_predictions_v3.gz', index=False, float_format='%.6f', compression='gzip')"
   ]
  },
  {
   "cell_type": "code",
   "execution_count": 28,
   "metadata": {},
   "outputs": [],
   "source": [
    "df.to_csv('single_predictions_v3.gz', index=False, float_format='%.6f', compression='gzip')"
   ]
  },
  {
   "cell_type": "code",
   "execution_count": null,
   "metadata": {},
   "outputs": [],
   "source": []
  }
 ],
 "metadata": {
  "kernelspec": {
   "display_name": "Python 3",
   "language": "python",
   "name": "python3"
  },
  "language_info": {
   "codemirror_mode": {
    "name": "ipython",
    "version": 3
   },
   "file_extension": ".py",
   "mimetype": "text/x-python",
   "name": "python",
   "nbconvert_exporter": "python",
   "pygments_lexer": "ipython3",
   "version": "3.6.6"
  }
 },
 "nbformat": 4,
 "nbformat_minor": 2
}
