{
 "cells": [
  {
   "cell_type": "code",
   "execution_count": 1,
   "metadata": {},
   "outputs": [],
   "source": [
    "import pandas as pd\n",
    "import numpy as np"
   ]
  },
  {
   "cell_type": "code",
   "execution_count": 29,
   "metadata": {},
   "outputs": [],
   "source": [
    "pred = pd.read_csv(r'..\\result\\predictions_v3.csv')"
   ]
  },
  {
   "cell_type": "code",
   "execution_count": 30,
   "metadata": {},
   "outputs": [
    {
     "name": "stdout",
     "output_type": "stream",
     "text": [
      "<class 'pandas.core.frame.DataFrame'>\n",
      "RangeIndex: 3492891 entries, 0 to 3492890\n",
      "Data columns (total 16 columns):\n",
      "class_6      float64\n",
      "class_15     float64\n",
      "class_16     float64\n",
      "class_42     float64\n",
      "class_52     float64\n",
      "class_53     float64\n",
      "class_62     float64\n",
      "class_64     float64\n",
      "class_65     float64\n",
      "class_67     float64\n",
      "class_88     float64\n",
      "class_90     float64\n",
      "class_92     float64\n",
      "class_95     float64\n",
      "object_id    int64\n",
      "class_99     float64\n",
      "dtypes: float64(15), int64(1)\n",
      "memory usage: 426.4 MB\n"
     ]
    }
   ],
   "source": [
    "pred.info()"
   ]
  },
  {
   "cell_type": "code",
   "execution_count": 31,
   "metadata": {},
   "outputs": [
    {
     "data": {
      "text/plain": [
       "3492889"
      ]
     },
     "execution_count": 31,
     "metadata": {},
     "output_type": "execute_result"
    }
   ],
   "source": [
    "pred.object_id.nunique()"
   ]
  },
  {
   "cell_type": "code",
   "execution_count": null,
   "metadata": {},
   "outputs": [],
   "source": []
  }
 ],
 "metadata": {
  "kernelspec": {
   "display_name": "Python 3",
   "language": "python",
   "name": "python3"
  },
  "language_info": {
   "codemirror_mode": {
    "name": "ipython",
    "version": 3
   },
   "file_extension": ".py",
   "mimetype": "text/x-python",
   "name": "python",
   "nbconvert_exporter": "python",
   "pygments_lexer": "ipython3",
   "version": "3.6.6"
  }
 },
 "nbformat": 4,
 "nbformat_minor": 2
}
