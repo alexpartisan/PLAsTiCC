{
 "cells": [
  {
   "cell_type": "code",
   "execution_count": 23,
   "metadata": {},
   "outputs": [],
   "source": [
    "import pandas as pd\n",
    "import numpy as np"
   ]
  },
  {
   "cell_type": "code",
   "execution_count": 25,
   "metadata": {},
   "outputs": [],
   "source": [
    "ans_nn = pd.read_csv('../result/1103_merge_lgb_3_nn_7.csv')"
   ]
  },
  {
   "cell_type": "code",
   "execution_count": 26,
   "metadata": {},
   "outputs": [
    {
     "data": {
      "text/plain": [
       "3492890"
      ]
     },
     "execution_count": 26,
     "metadata": {},
     "output_type": "execute_result"
    }
   ],
   "source": [
    "ans_nn.object_id.nunique()"
   ]
  },
  {
   "cell_type": "code",
   "execution_count": 27,
   "metadata": {},
   "outputs": [],
   "source": [
    "ans_lgb = pd.read_csv('../result/1101_merge_lgb_3_nn_7.csv')"
   ]
  },
  {
   "cell_type": "code",
   "execution_count": 28,
   "metadata": {},
   "outputs": [
    {
     "name": "stdout",
     "output_type": "stream",
     "text": [
      "<class 'pandas.core.frame.DataFrame'>\n",
      "RangeIndex: 3492890 entries, 0 to 3492889\n",
      "Data columns (total 16 columns):\n",
      "class_6      float64\n",
      "class_15     float64\n",
      "class_16     float64\n",
      "class_42     float64\n",
      "class_52     float64\n",
      "class_53     float64\n",
      "class_62     float64\n",
      "class_64     float64\n",
      "class_65     float64\n",
      "class_67     float64\n",
      "class_88     float64\n",
      "class_90     float64\n",
      "class_92     float64\n",
      "class_95     float64\n",
      "class_99     float64\n",
      "object_id    int64\n",
      "dtypes: float64(15), int64(1)\n",
      "memory usage: 426.4 MB\n",
      "<class 'pandas.core.frame.DataFrame'>\n",
      "RangeIndex: 3492890 entries, 0 to 3492889\n",
      "Data columns (total 16 columns):\n",
      "class_6      float64\n",
      "class_15     float64\n",
      "class_16     float64\n",
      "class_42     float64\n",
      "class_52     float64\n",
      "class_53     float64\n",
      "class_62     float64\n",
      "class_64     float64\n",
      "class_65     float64\n",
      "class_67     float64\n",
      "class_88     float64\n",
      "class_90     float64\n",
      "class_92     float64\n",
      "class_95     float64\n",
      "class_99     float64\n",
      "object_id    int64\n",
      "dtypes: float64(15), int64(1)\n",
      "memory usage: 426.4 MB\n"
     ]
    }
   ],
   "source": [
    "ans_nn.info()\n",
    "ans_lgb.info()"
   ]
  },
  {
   "cell_type": "code",
   "execution_count": 29,
   "metadata": {},
   "outputs": [],
   "source": [
    "# 然后两者可以开始merge了\n",
    "\n",
    "ans_nn.sort_values(by='object_id', inplace=True)\n",
    "ans_lgb.sort_values(by='object_id', inplace=True)"
   ]
  },
  {
   "cell_type": "code",
   "execution_count": 30,
   "metadata": {},
   "outputs": [],
   "source": [
    "sub = ans_nn.copy()"
   ]
  },
  {
   "cell_type": "code",
   "execution_count": 31,
   "metadata": {},
   "outputs": [
    {
     "data": {
      "text/plain": [
       "['class_6',\n",
       " 'class_15',\n",
       " 'class_16',\n",
       " 'class_42',\n",
       " 'class_52',\n",
       " 'class_53',\n",
       " 'class_62',\n",
       " 'class_64',\n",
       " 'class_65',\n",
       " 'class_67',\n",
       " 'class_88',\n",
       " 'class_90',\n",
       " 'class_92',\n",
       " 'class_95',\n",
       " 'class_99']"
      ]
     },
     "execution_count": 31,
     "metadata": {},
     "output_type": "execute_result"
    }
   ],
   "source": [
    "classes = sub.columns.tolist()[:-1]\n",
    "classes"
   ]
  },
  {
   "cell_type": "code",
   "execution_count": 32,
   "metadata": {},
   "outputs": [],
   "source": [
    "ratio_nn = 0.5\n",
    "ratio_lgb = 0.5\n",
    "sub[classes] = ratio_nn * ans_nn[classes] + ratio_lgb * ans_lgb[classes] \n",
    "sub.object_id = sub.object_id.astype(np.int32)"
   ]
  },
  {
   "cell_type": "code",
   "execution_count": 33,
   "metadata": {},
   "outputs": [
    {
     "name": "stdout",
     "output_type": "stream",
     "text": [
      "<class 'pandas.core.frame.DataFrame'>\n",
      "Int64Index: 3492890 entries, 0 to 3492889\n",
      "Data columns (total 16 columns):\n",
      "class_6      float64\n",
      "class_15     float64\n",
      "class_16     float64\n",
      "class_42     float64\n",
      "class_52     float64\n",
      "class_53     float64\n",
      "class_62     float64\n",
      "class_64     float64\n",
      "class_65     float64\n",
      "class_67     float64\n",
      "class_88     float64\n",
      "class_90     float64\n",
      "class_92     float64\n",
      "class_95     float64\n",
      "class_99     float64\n",
      "object_id    int32\n",
      "dtypes: float64(15), int32(1)\n",
      "memory usage: 439.7 MB\n"
     ]
    }
   ],
   "source": [
    "sub.info()"
   ]
  },
  {
   "cell_type": "code",
   "execution_count": 34,
   "metadata": {},
   "outputs": [
    {
     "data": {
      "text/plain": [
       "3492890"
      ]
     },
     "execution_count": 34,
     "metadata": {},
     "output_type": "execute_result"
    }
   ],
   "source": [
    "sub.object_id.nunique()"
   ]
  },
  {
   "cell_type": "code",
   "execution_count": 35,
   "metadata": {},
   "outputs": [],
   "source": [
    "sub.to_csv('../result/halfmerge_1101_1103.gz', index=False, float_format='%.6f', compression='gzip')"
   ]
  },
  {
   "cell_type": "code",
   "execution_count": 18,
   "metadata": {},
   "outputs": [],
   "source": [
    "sub.to_csv('../result/1103_merge_lgb_3_nn_7.gz', index=False, float_format='%.6f', compression='gzip')"
   ]
  },
  {
   "cell_type": "code",
   "execution_count": 22,
   "metadata": {},
   "outputs": [],
   "source": [
    "sub.to_csv('../result/1103_merge_lgb_2_nn_8.gz', index=False, float_format='%.6f', compression='gzip')"
   ]
  },
  {
   "cell_type": "code",
   "execution_count": null,
   "metadata": {},
   "outputs": [],
   "source": []
  }
 ],
 "metadata": {
  "kernelspec": {
   "display_name": "Python 3",
   "language": "python",
   "name": "python3"
  },
  "language_info": {
   "codemirror_mode": {
    "name": "ipython",
    "version": 3
   },
   "file_extension": ".py",
   "mimetype": "text/x-python",
   "name": "python",
   "nbconvert_exporter": "python",
   "pygments_lexer": "ipython3",
   "version": "3.6.6"
  }
 },
 "nbformat": 4,
 "nbformat_minor": 2
}
